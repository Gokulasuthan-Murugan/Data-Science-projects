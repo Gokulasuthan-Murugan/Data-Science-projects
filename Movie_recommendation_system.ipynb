{
 "cells": [
  {
   "cell_type": "markdown",
   "id": "af5668ed-74dd-4ec7-9db7-89e784924c6e",
   "metadata": {},
   "source": [
    "### Import necessary libraries "
   ]
  },
  {
   "cell_type": "code",
   "execution_count": 1,
   "id": "e720da6e-be78-4243-ba02-41f4917d28a0",
   "metadata": {},
   "outputs": [],
   "source": [
    "import numpy as np\n",
    "import pandas as pd\n",
    "import difflib\n",
    "from sklearn.feature_extraction.text import TfidfVectorizer\n",
    "from sklearn.metrics.pairwise import cosine_similarity\n",
    "from sklearn.preprocessing import StandardScaler\n",
    "import warnings \n",
    "warnings.simplefilter(action='ignore')"
   ]
  },
  {
   "cell_type": "markdown",
   "id": "f5233a18-3f22-4206-973d-49f4eabfc48d",
   "metadata": {},
   "source": [
    "### Load Dataset"
   ]
  },
  {
   "cell_type": "code",
   "execution_count": 2,
   "id": "f026811c-197c-4e05-a483-7065a2401689",
   "metadata": {},
   "outputs": [
    {
     "data": {
      "text/html": [
       "<div>\n",
       "<style scoped>\n",
       "    .dataframe tbody tr th:only-of-type {\n",
       "        vertical-align: middle;\n",
       "    }\n",
       "\n",
       "    .dataframe tbody tr th {\n",
       "        vertical-align: top;\n",
       "    }\n",
       "\n",
       "    .dataframe thead th {\n",
       "        text-align: right;\n",
       "    }\n",
       "</style>\n",
       "<table border=\"1\" class=\"dataframe\">\n",
       "  <thead>\n",
       "    <tr style=\"text-align: right;\">\n",
       "      <th></th>\n",
       "      <th>index</th>\n",
       "      <th>budget</th>\n",
       "      <th>genres</th>\n",
       "      <th>homepage</th>\n",
       "      <th>id</th>\n",
       "      <th>keywords</th>\n",
       "      <th>original_language</th>\n",
       "      <th>original_title</th>\n",
       "      <th>overview</th>\n",
       "      <th>popularity</th>\n",
       "      <th>...</th>\n",
       "      <th>runtime</th>\n",
       "      <th>spoken_languages</th>\n",
       "      <th>status</th>\n",
       "      <th>tagline</th>\n",
       "      <th>title</th>\n",
       "      <th>vote_average</th>\n",
       "      <th>vote_count</th>\n",
       "      <th>cast</th>\n",
       "      <th>crew</th>\n",
       "      <th>director</th>\n",
       "    </tr>\n",
       "  </thead>\n",
       "  <tbody>\n",
       "    <tr>\n",
       "      <th>0</th>\n",
       "      <td>0</td>\n",
       "      <td>237000000</td>\n",
       "      <td>Action Adventure Fantasy Science Fiction</td>\n",
       "      <td>http://www.avatarmovie.com/</td>\n",
       "      <td>19995</td>\n",
       "      <td>culture clash future space war space colony so...</td>\n",
       "      <td>en</td>\n",
       "      <td>Avatar</td>\n",
       "      <td>In the 22nd century, a paraplegic Marine is di...</td>\n",
       "      <td>150.437577</td>\n",
       "      <td>...</td>\n",
       "      <td>162.0</td>\n",
       "      <td>[{\"iso_639_1\": \"en\", \"name\": \"English\"}, {\"iso...</td>\n",
       "      <td>Released</td>\n",
       "      <td>Enter the World of Pandora.</td>\n",
       "      <td>Avatar</td>\n",
       "      <td>7.2</td>\n",
       "      <td>11800</td>\n",
       "      <td>Sam Worthington Zoe Saldana Sigourney Weaver S...</td>\n",
       "      <td>[{'name': 'Stephen E. Rivkin', 'gender': 0, 'd...</td>\n",
       "      <td>James Cameron</td>\n",
       "    </tr>\n",
       "    <tr>\n",
       "      <th>1</th>\n",
       "      <td>1</td>\n",
       "      <td>300000000</td>\n",
       "      <td>Adventure Fantasy Action</td>\n",
       "      <td>http://disney.go.com/disneypictures/pirates/</td>\n",
       "      <td>285</td>\n",
       "      <td>ocean drug abuse exotic island east india trad...</td>\n",
       "      <td>en</td>\n",
       "      <td>Pirates of the Caribbean: At World's End</td>\n",
       "      <td>Captain Barbossa, long believed to be dead, ha...</td>\n",
       "      <td>139.082615</td>\n",
       "      <td>...</td>\n",
       "      <td>169.0</td>\n",
       "      <td>[{\"iso_639_1\": \"en\", \"name\": \"English\"}]</td>\n",
       "      <td>Released</td>\n",
       "      <td>At the end of the world, the adventure begins.</td>\n",
       "      <td>Pirates of the Caribbean: At World's End</td>\n",
       "      <td>6.9</td>\n",
       "      <td>4500</td>\n",
       "      <td>Johnny Depp Orlando Bloom Keira Knightley Stel...</td>\n",
       "      <td>[{'name': 'Dariusz Wolski', 'gender': 2, 'depa...</td>\n",
       "      <td>Gore Verbinski</td>\n",
       "    </tr>\n",
       "    <tr>\n",
       "      <th>2</th>\n",
       "      <td>2</td>\n",
       "      <td>245000000</td>\n",
       "      <td>Action Adventure Crime</td>\n",
       "      <td>http://www.sonypictures.com/movies/spectre/</td>\n",
       "      <td>206647</td>\n",
       "      <td>spy based on novel secret agent sequel mi6</td>\n",
       "      <td>en</td>\n",
       "      <td>Spectre</td>\n",
       "      <td>A cryptic message from Bond’s past sends him o...</td>\n",
       "      <td>107.376788</td>\n",
       "      <td>...</td>\n",
       "      <td>148.0</td>\n",
       "      <td>[{\"iso_639_1\": \"fr\", \"name\": \"Fran\\u00e7ais\"},...</td>\n",
       "      <td>Released</td>\n",
       "      <td>A Plan No One Escapes</td>\n",
       "      <td>Spectre</td>\n",
       "      <td>6.3</td>\n",
       "      <td>4466</td>\n",
       "      <td>Daniel Craig Christoph Waltz L\\u00e9a Seydoux ...</td>\n",
       "      <td>[{'name': 'Thomas Newman', 'gender': 2, 'depar...</td>\n",
       "      <td>Sam Mendes</td>\n",
       "    </tr>\n",
       "    <tr>\n",
       "      <th>3</th>\n",
       "      <td>3</td>\n",
       "      <td>250000000</td>\n",
       "      <td>Action Crime Drama Thriller</td>\n",
       "      <td>http://www.thedarkknightrises.com/</td>\n",
       "      <td>49026</td>\n",
       "      <td>dc comics crime fighter terrorist secret ident...</td>\n",
       "      <td>en</td>\n",
       "      <td>The Dark Knight Rises</td>\n",
       "      <td>Following the death of District Attorney Harve...</td>\n",
       "      <td>112.312950</td>\n",
       "      <td>...</td>\n",
       "      <td>165.0</td>\n",
       "      <td>[{\"iso_639_1\": \"en\", \"name\": \"English\"}]</td>\n",
       "      <td>Released</td>\n",
       "      <td>The Legend Ends</td>\n",
       "      <td>The Dark Knight Rises</td>\n",
       "      <td>7.6</td>\n",
       "      <td>9106</td>\n",
       "      <td>Christian Bale Michael Caine Gary Oldman Anne ...</td>\n",
       "      <td>[{'name': 'Hans Zimmer', 'gender': 2, 'departm...</td>\n",
       "      <td>Christopher Nolan</td>\n",
       "    </tr>\n",
       "    <tr>\n",
       "      <th>4</th>\n",
       "      <td>4</td>\n",
       "      <td>260000000</td>\n",
       "      <td>Action Adventure Science Fiction</td>\n",
       "      <td>http://movies.disney.com/john-carter</td>\n",
       "      <td>49529</td>\n",
       "      <td>based on novel mars medallion space travel pri...</td>\n",
       "      <td>en</td>\n",
       "      <td>John Carter</td>\n",
       "      <td>John Carter is a war-weary, former military ca...</td>\n",
       "      <td>43.926995</td>\n",
       "      <td>...</td>\n",
       "      <td>132.0</td>\n",
       "      <td>[{\"iso_639_1\": \"en\", \"name\": \"English\"}]</td>\n",
       "      <td>Released</td>\n",
       "      <td>Lost in our world, found in another.</td>\n",
       "      <td>John Carter</td>\n",
       "      <td>6.1</td>\n",
       "      <td>2124</td>\n",
       "      <td>Taylor Kitsch Lynn Collins Samantha Morton Wil...</td>\n",
       "      <td>[{'name': 'Andrew Stanton', 'gender': 2, 'depa...</td>\n",
       "      <td>Andrew Stanton</td>\n",
       "    </tr>\n",
       "  </tbody>\n",
       "</table>\n",
       "<p>5 rows × 24 columns</p>\n",
       "</div>"
      ],
      "text/plain": [
       "   index     budget                                    genres  \\\n",
       "0      0  237000000  Action Adventure Fantasy Science Fiction   \n",
       "1      1  300000000                  Adventure Fantasy Action   \n",
       "2      2  245000000                    Action Adventure Crime   \n",
       "3      3  250000000               Action Crime Drama Thriller   \n",
       "4      4  260000000          Action Adventure Science Fiction   \n",
       "\n",
       "                                       homepage      id  \\\n",
       "0                   http://www.avatarmovie.com/   19995   \n",
       "1  http://disney.go.com/disneypictures/pirates/     285   \n",
       "2   http://www.sonypictures.com/movies/spectre/  206647   \n",
       "3            http://www.thedarkknightrises.com/   49026   \n",
       "4          http://movies.disney.com/john-carter   49529   \n",
       "\n",
       "                                            keywords original_language  \\\n",
       "0  culture clash future space war space colony so...                en   \n",
       "1  ocean drug abuse exotic island east india trad...                en   \n",
       "2         spy based on novel secret agent sequel mi6                en   \n",
       "3  dc comics crime fighter terrorist secret ident...                en   \n",
       "4  based on novel mars medallion space travel pri...                en   \n",
       "\n",
       "                             original_title  \\\n",
       "0                                    Avatar   \n",
       "1  Pirates of the Caribbean: At World's End   \n",
       "2                                   Spectre   \n",
       "3                     The Dark Knight Rises   \n",
       "4                               John Carter   \n",
       "\n",
       "                                            overview  popularity  ... runtime  \\\n",
       "0  In the 22nd century, a paraplegic Marine is di...  150.437577  ...   162.0   \n",
       "1  Captain Barbossa, long believed to be dead, ha...  139.082615  ...   169.0   \n",
       "2  A cryptic message from Bond’s past sends him o...  107.376788  ...   148.0   \n",
       "3  Following the death of District Attorney Harve...  112.312950  ...   165.0   \n",
       "4  John Carter is a war-weary, former military ca...   43.926995  ...   132.0   \n",
       "\n",
       "                                    spoken_languages    status  \\\n",
       "0  [{\"iso_639_1\": \"en\", \"name\": \"English\"}, {\"iso...  Released   \n",
       "1           [{\"iso_639_1\": \"en\", \"name\": \"English\"}]  Released   \n",
       "2  [{\"iso_639_1\": \"fr\", \"name\": \"Fran\\u00e7ais\"},...  Released   \n",
       "3           [{\"iso_639_1\": \"en\", \"name\": \"English\"}]  Released   \n",
       "4           [{\"iso_639_1\": \"en\", \"name\": \"English\"}]  Released   \n",
       "\n",
       "                                          tagline  \\\n",
       "0                     Enter the World of Pandora.   \n",
       "1  At the end of the world, the adventure begins.   \n",
       "2                           A Plan No One Escapes   \n",
       "3                                 The Legend Ends   \n",
       "4            Lost in our world, found in another.   \n",
       "\n",
       "                                      title vote_average vote_count  \\\n",
       "0                                    Avatar          7.2      11800   \n",
       "1  Pirates of the Caribbean: At World's End          6.9       4500   \n",
       "2                                   Spectre          6.3       4466   \n",
       "3                     The Dark Knight Rises          7.6       9106   \n",
       "4                               John Carter          6.1       2124   \n",
       "\n",
       "                                                cast  \\\n",
       "0  Sam Worthington Zoe Saldana Sigourney Weaver S...   \n",
       "1  Johnny Depp Orlando Bloom Keira Knightley Stel...   \n",
       "2  Daniel Craig Christoph Waltz L\\u00e9a Seydoux ...   \n",
       "3  Christian Bale Michael Caine Gary Oldman Anne ...   \n",
       "4  Taylor Kitsch Lynn Collins Samantha Morton Wil...   \n",
       "\n",
       "                                                crew           director  \n",
       "0  [{'name': 'Stephen E. Rivkin', 'gender': 0, 'd...      James Cameron  \n",
       "1  [{'name': 'Dariusz Wolski', 'gender': 2, 'depa...     Gore Verbinski  \n",
       "2  [{'name': 'Thomas Newman', 'gender': 2, 'depar...         Sam Mendes  \n",
       "3  [{'name': 'Hans Zimmer', 'gender': 2, 'departm...  Christopher Nolan  \n",
       "4  [{'name': 'Andrew Stanton', 'gender': 2, 'depa...     Andrew Stanton  \n",
       "\n",
       "[5 rows x 24 columns]"
      ]
     },
     "execution_count": 2,
     "metadata": {},
     "output_type": "execute_result"
    }
   ],
   "source": [
    "df=pd.read_csv('movies.csv')\n",
    "df.head()"
   ]
  },
  {
   "cell_type": "markdown",
   "id": "0c541a5e-5624-4df2-bd91-9ad7879a1ccb",
   "metadata": {},
   "source": [
    "### Data cleaning and visualization"
   ]
  },
  {
   "cell_type": "code",
   "execution_count": 3,
   "id": "64ac531c-add9-481c-bd46-3c6b3c2af6a6",
   "metadata": {},
   "outputs": [
    {
     "data": {
      "text/plain": [
       "Index(['index', 'budget', 'genres', 'homepage', 'id', 'keywords',\n",
       "       'original_language', 'original_title', 'overview', 'popularity',\n",
       "       'production_companies', 'production_countries', 'release_date',\n",
       "       'revenue', 'runtime', 'spoken_languages', 'status', 'tagline', 'title',\n",
       "       'vote_average', 'vote_count', 'cast', 'crew', 'director'],\n",
       "      dtype='object')"
      ]
     },
     "execution_count": 3,
     "metadata": {},
     "output_type": "execute_result"
    }
   ],
   "source": [
    "df.columns"
   ]
  },
  {
   "cell_type": "code",
   "execution_count": 4,
   "id": "b0860b23-621d-4219-b3a8-434593d4099d",
   "metadata": {},
   "outputs": [
    {
     "data": {
      "text/plain": [
       "380000000"
      ]
     },
     "execution_count": 4,
     "metadata": {},
     "output_type": "execute_result"
    }
   ],
   "source": [
    "max_val=df['budget'].max()\n",
    "max_val"
   ]
  },
  {
   "cell_type": "code",
   "execution_count": 5,
   "id": "59001a27-4a8d-4acc-aec3-5cfd4d7a363b",
   "metadata": {},
   "outputs": [],
   "source": [
    "df['scaled_budget']=df['budget'].apply(lambda x: x/max_val)"
   ]
  },
  {
   "cell_type": "code",
   "execution_count": 6,
   "id": "2fe54ef5-1ada-431a-ac64-26ffed841b08",
   "metadata": {},
   "outputs": [],
   "source": [
    "use_cols=['genres','scaled_budget','keywords','title','cast','director','overview']"
   ]
  },
  {
   "cell_type": "code",
   "execution_count": 7,
   "id": "ed9ef9a4-9330-4944-8364-7e5b649aa803",
   "metadata": {},
   "outputs": [],
   "source": [
    "df1=df[use_cols]"
   ]
  },
  {
   "cell_type": "code",
   "execution_count": 8,
   "id": "6655c57e-8a80-40f8-b1c2-02eb9a951506",
   "metadata": {},
   "outputs": [
    {
     "data": {
      "text/plain": [
       "genres            28\n",
       "scaled_budget      0\n",
       "keywords         412\n",
       "title              0\n",
       "cast              43\n",
       "director          30\n",
       "overview           3\n",
       "dtype: int64"
      ]
     },
     "execution_count": 8,
     "metadata": {},
     "output_type": "execute_result"
    }
   ],
   "source": [
    "df1.isnull().sum()"
   ]
  },
  {
   "cell_type": "code",
   "execution_count": 9,
   "id": "53eeeed8-3a0b-48ae-9497-84465f769abb",
   "metadata": {
    "scrolled": true
   },
   "outputs": [
    {
     "data": {
      "text/html": [
       "<div>\n",
       "<style scoped>\n",
       "    .dataframe tbody tr th:only-of-type {\n",
       "        vertical-align: middle;\n",
       "    }\n",
       "\n",
       "    .dataframe tbody tr th {\n",
       "        vertical-align: top;\n",
       "    }\n",
       "\n",
       "    .dataframe thead th {\n",
       "        text-align: right;\n",
       "    }\n",
       "</style>\n",
       "<table border=\"1\" class=\"dataframe\">\n",
       "  <thead>\n",
       "    <tr style=\"text-align: right;\">\n",
       "      <th></th>\n",
       "      <th>genres</th>\n",
       "      <th>scaled_budget</th>\n",
       "      <th>keywords</th>\n",
       "      <th>title</th>\n",
       "      <th>cast</th>\n",
       "      <th>director</th>\n",
       "      <th>overview</th>\n",
       "    </tr>\n",
       "  </thead>\n",
       "  <tbody>\n",
       "    <tr>\n",
       "      <th>0</th>\n",
       "      <td>Action Adventure Fantasy Science Fiction</td>\n",
       "      <td>0.623684</td>\n",
       "      <td>culture clash future space war space colony so...</td>\n",
       "      <td>Avatar</td>\n",
       "      <td>Sam Worthington Zoe Saldana Sigourney Weaver S...</td>\n",
       "      <td>James Cameron</td>\n",
       "      <td>In the 22nd century, a paraplegic Marine is di...</td>\n",
       "    </tr>\n",
       "    <tr>\n",
       "      <th>1</th>\n",
       "      <td>Adventure Fantasy Action</td>\n",
       "      <td>0.789474</td>\n",
       "      <td>ocean drug abuse exotic island east india trad...</td>\n",
       "      <td>Pirates of the Caribbean: At World's End</td>\n",
       "      <td>Johnny Depp Orlando Bloom Keira Knightley Stel...</td>\n",
       "      <td>Gore Verbinski</td>\n",
       "      <td>Captain Barbossa, long believed to be dead, ha...</td>\n",
       "    </tr>\n",
       "    <tr>\n",
       "      <th>2</th>\n",
       "      <td>Action Adventure Crime</td>\n",
       "      <td>0.644737</td>\n",
       "      <td>spy based on novel secret agent sequel mi6</td>\n",
       "      <td>Spectre</td>\n",
       "      <td>Daniel Craig Christoph Waltz L\\u00e9a Seydoux ...</td>\n",
       "      <td>Sam Mendes</td>\n",
       "      <td>A cryptic message from Bond’s past sends him o...</td>\n",
       "    </tr>\n",
       "    <tr>\n",
       "      <th>3</th>\n",
       "      <td>Action Crime Drama Thriller</td>\n",
       "      <td>0.657895</td>\n",
       "      <td>dc comics crime fighter terrorist secret ident...</td>\n",
       "      <td>The Dark Knight Rises</td>\n",
       "      <td>Christian Bale Michael Caine Gary Oldman Anne ...</td>\n",
       "      <td>Christopher Nolan</td>\n",
       "      <td>Following the death of District Attorney Harve...</td>\n",
       "    </tr>\n",
       "    <tr>\n",
       "      <th>4</th>\n",
       "      <td>Action Adventure Science Fiction</td>\n",
       "      <td>0.684211</td>\n",
       "      <td>based on novel mars medallion space travel pri...</td>\n",
       "      <td>John Carter</td>\n",
       "      <td>Taylor Kitsch Lynn Collins Samantha Morton Wil...</td>\n",
       "      <td>Andrew Stanton</td>\n",
       "      <td>John Carter is a war-weary, former military ca...</td>\n",
       "    </tr>\n",
       "  </tbody>\n",
       "</table>\n",
       "</div>"
      ],
      "text/plain": [
       "                                     genres  scaled_budget  \\\n",
       "0  Action Adventure Fantasy Science Fiction       0.623684   \n",
       "1                  Adventure Fantasy Action       0.789474   \n",
       "2                    Action Adventure Crime       0.644737   \n",
       "3               Action Crime Drama Thriller       0.657895   \n",
       "4          Action Adventure Science Fiction       0.684211   \n",
       "\n",
       "                                            keywords  \\\n",
       "0  culture clash future space war space colony so...   \n",
       "1  ocean drug abuse exotic island east india trad...   \n",
       "2         spy based on novel secret agent sequel mi6   \n",
       "3  dc comics crime fighter terrorist secret ident...   \n",
       "4  based on novel mars medallion space travel pri...   \n",
       "\n",
       "                                      title  \\\n",
       "0                                    Avatar   \n",
       "1  Pirates of the Caribbean: At World's End   \n",
       "2                                   Spectre   \n",
       "3                     The Dark Knight Rises   \n",
       "4                               John Carter   \n",
       "\n",
       "                                                cast           director  \\\n",
       "0  Sam Worthington Zoe Saldana Sigourney Weaver S...      James Cameron   \n",
       "1  Johnny Depp Orlando Bloom Keira Knightley Stel...     Gore Verbinski   \n",
       "2  Daniel Craig Christoph Waltz L\\u00e9a Seydoux ...         Sam Mendes   \n",
       "3  Christian Bale Michael Caine Gary Oldman Anne ...  Christopher Nolan   \n",
       "4  Taylor Kitsch Lynn Collins Samantha Morton Wil...     Andrew Stanton   \n",
       "\n",
       "                                            overview  \n",
       "0  In the 22nd century, a paraplegic Marine is di...  \n",
       "1  Captain Barbossa, long believed to be dead, ha...  \n",
       "2  A cryptic message from Bond’s past sends him o...  \n",
       "3  Following the death of District Attorney Harve...  \n",
       "4  John Carter is a war-weary, former military ca...  "
      ]
     },
     "execution_count": 9,
     "metadata": {},
     "output_type": "execute_result"
    }
   ],
   "source": [
    "df1.head()"
   ]
  },
  {
   "cell_type": "code",
   "execution_count": 10,
   "id": "aadfe559-d7d0-421b-b0fa-48b8eee90e53",
   "metadata": {},
   "outputs": [],
   "source": [
    "df1.fillna(' ',inplace=True)"
   ]
  },
  {
   "cell_type": "code",
   "execution_count": 11,
   "id": "dcb9883b-1039-46bf-b5f6-7bf744b685da",
   "metadata": {},
   "outputs": [],
   "source": [
    "combined_feature=df1['scaled_budget'].astype('str')+' '+df1['genres']+' '+df1['keywords']+' '+df1['title']+' '+df1['director']+' '+df1['overview']+' '+df1['cast']"
   ]
  },
  {
   "cell_type": "code",
   "execution_count": 12,
   "id": "31ad9bc8-bdd2-4e2f-997a-d8df17ca207d",
   "metadata": {
    "scrolled": true
   },
   "outputs": [
    {
     "data": {
      "text/plain": [
       "0       0.6236842105263158 Action Adventure Fantasy Sc...\n",
       "1       0.7894736842105263 Adventure Fantasy Action oc...\n",
       "2       0.6447368421052632 Action Adventure Crime spy ...\n",
       "3       0.6578947368421053 Action Crime Drama Thriller...\n",
       "4       0.6842105263157895 Action Adventure Science Fi...\n",
       "                              ...                        \n",
       "4798    0.0005789473684210527 Action Crime Thriller un...\n",
       "4799    2.368421052631579e-05 Comedy Romance   Newlywe...\n",
       "4800    0.0 Comedy Drama Romance TV Movie date love at...\n",
       "4801    0.0     Shanghai Calling Daniel Hsia When ambi...\n",
       "4802    0.0 Documentary obsession camcorder crush drea...\n",
       "Length: 4803, dtype: object"
      ]
     },
     "execution_count": 12,
     "metadata": {},
     "output_type": "execute_result"
    }
   ],
   "source": [
    "combined_feature"
   ]
  },
  {
   "cell_type": "code",
   "execution_count": 13,
   "id": "f9d16bf9-bc46-40a4-abdb-b14101dee68d",
   "metadata": {},
   "outputs": [
    {
     "data": {
      "text/html": [
       "<div>\n",
       "<style scoped>\n",
       "    .dataframe tbody tr th:only-of-type {\n",
       "        vertical-align: middle;\n",
       "    }\n",
       "\n",
       "    .dataframe tbody tr th {\n",
       "        vertical-align: top;\n",
       "    }\n",
       "\n",
       "    .dataframe thead th {\n",
       "        text-align: right;\n",
       "    }\n",
       "</style>\n",
       "<table border=\"1\" class=\"dataframe\">\n",
       "  <thead>\n",
       "    <tr style=\"text-align: right;\">\n",
       "      <th></th>\n",
       "      <th>genres</th>\n",
       "      <th>scaled_budget</th>\n",
       "      <th>keywords</th>\n",
       "      <th>title</th>\n",
       "      <th>cast</th>\n",
       "      <th>director</th>\n",
       "      <th>overview</th>\n",
       "    </tr>\n",
       "  </thead>\n",
       "  <tbody>\n",
       "    <tr>\n",
       "      <th>265</th>\n",
       "      <td>Comedy Fantasy Family</td>\n",
       "      <td>0.0</td>\n",
       "      <td>cat brother sister relationship boredom chaos ...</td>\n",
       "      <td>The Cat in the Hat</td>\n",
       "      <td>Mike Myers Dakota Fanning Spencer Breslin Kell...</td>\n",
       "      <td>Bo Welch</td>\n",
       "      <td>Conrad and Sally Walden are home alone with th...</td>\n",
       "    </tr>\n",
       "    <tr>\n",
       "      <th>321</th>\n",
       "      <td>Comedy</td>\n",
       "      <td>0.0</td>\n",
       "      <td>politics politician election campaign \\u00a0no...</td>\n",
       "      <td>The Campaign</td>\n",
       "      <td>Will Ferrell Zach Galifianakis Dylan McDermott...</td>\n",
       "      <td>Jay Roach</td>\n",
       "      <td>Two rival politicians compete to win an electi...</td>\n",
       "    </tr>\n",
       "    <tr>\n",
       "      <th>359</th>\n",
       "      <td>Adventure Animation Comedy Family</td>\n",
       "      <td>0.0</td>\n",
       "      <td>chipmunk cgi talking animal aftercreditsstinge...</td>\n",
       "      <td>Alvin and the Chipmunks: The Road Chip</td>\n",
       "      <td>Jason Lee Justin Long Bella Thorne Matthew Gra...</td>\n",
       "      <td>Walt Becker</td>\n",
       "      <td>Through a series of misunderstandings, Alvin, ...</td>\n",
       "    </tr>\n",
       "    <tr>\n",
       "      <th>406</th>\n",
       "      <td>Drama Animation Family Comedy</td>\n",
       "      <td>0.0</td>\n",
       "      <td>holiday santa claus duringcreditsstinger woman...</td>\n",
       "      <td>Arthur Christmas</td>\n",
       "      <td>James McAvoy Hugh Laurie Bill Nighy Jim Broadb...</td>\n",
       "      <td>Barry Cook</td>\n",
       "      <td>Each Christmas, Santa and his vast army of hig...</td>\n",
       "    </tr>\n",
       "    <tr>\n",
       "      <th>409</th>\n",
       "      <td>Drama Music</td>\n",
       "      <td>0.0</td>\n",
       "      <td>show business film making tap dancing movie in...</td>\n",
       "      <td>All That Jazz</td>\n",
       "      <td>Roy Scheider Jessica Lange Leland Palmer Ann R...</td>\n",
       "      <td>Bob Fosse</td>\n",
       "      <td>Bob Fosse's semi-autobiographical film celebra...</td>\n",
       "    </tr>\n",
       "    <tr>\n",
       "      <th>...</th>\n",
       "      <td>...</td>\n",
       "      <td>...</td>\n",
       "      <td>...</td>\n",
       "      <td>...</td>\n",
       "      <td>...</td>\n",
       "      <td>...</td>\n",
       "      <td>...</td>\n",
       "    </tr>\n",
       "    <tr>\n",
       "      <th>4795</th>\n",
       "      <td>Drama</td>\n",
       "      <td>0.0</td>\n",
       "      <td>gang audition police fake homeless actress</td>\n",
       "      <td>Bang</td>\n",
       "      <td>Darling Narita Peter Greene Michael Newland Er...</td>\n",
       "      <td>Ash Baron-Cohen</td>\n",
       "      <td>A young woman in L.A. is having a bad day: she...</td>\n",
       "    </tr>\n",
       "    <tr>\n",
       "      <th>4797</th>\n",
       "      <td>Foreign Thriller</td>\n",
       "      <td>0.0</td>\n",
       "      <td></td>\n",
       "      <td>Cavite</td>\n",
       "      <td></td>\n",
       "      <td>Neill Dela Llana</td>\n",
       "      <td>Adam, a security guard, travels from Californi...</td>\n",
       "    </tr>\n",
       "    <tr>\n",
       "      <th>4800</th>\n",
       "      <td>Comedy Drama Romance TV Movie</td>\n",
       "      <td>0.0</td>\n",
       "      <td>date love at first sight narration investigati...</td>\n",
       "      <td>Signed, Sealed, Delivered</td>\n",
       "      <td>Eric Mabius Kristin Booth Crystal Lowe Geoff G...</td>\n",
       "      <td>Scott Smith</td>\n",
       "      <td>\"Signed, Sealed, Delivered\" introduces a dedic...</td>\n",
       "    </tr>\n",
       "    <tr>\n",
       "      <th>4801</th>\n",
       "      <td></td>\n",
       "      <td>0.0</td>\n",
       "      <td></td>\n",
       "      <td>Shanghai Calling</td>\n",
       "      <td>Daniel Henney Eliza Coupe Bill Paxton Alan Ruc...</td>\n",
       "      <td>Daniel Hsia</td>\n",
       "      <td>When ambitious New York attorney Sam is sent t...</td>\n",
       "    </tr>\n",
       "    <tr>\n",
       "      <th>4802</th>\n",
       "      <td>Documentary</td>\n",
       "      <td>0.0</td>\n",
       "      <td>obsession camcorder crush dream girl</td>\n",
       "      <td>My Date with Drew</td>\n",
       "      <td>Drew Barrymore Brian Herzlinger Corey Feldman ...</td>\n",
       "      <td>Brian Herzlinger</td>\n",
       "      <td>Ever since the second grade when he first saw ...</td>\n",
       "    </tr>\n",
       "  </tbody>\n",
       "</table>\n",
       "<p>1037 rows × 7 columns</p>\n",
       "</div>"
      ],
      "text/plain": [
       "                                 genres  scaled_budget  \\\n",
       "265               Comedy Fantasy Family            0.0   \n",
       "321                              Comedy            0.0   \n",
       "359   Adventure Animation Comedy Family            0.0   \n",
       "406       Drama Animation Family Comedy            0.0   \n",
       "409                         Drama Music            0.0   \n",
       "...                                 ...            ...   \n",
       "4795                              Drama            0.0   \n",
       "4797                   Foreign Thriller            0.0   \n",
       "4800      Comedy Drama Romance TV Movie            0.0   \n",
       "4801                                               0.0   \n",
       "4802                        Documentary            0.0   \n",
       "\n",
       "                                               keywords  \\\n",
       "265   cat brother sister relationship boredom chaos ...   \n",
       "321   politics politician election campaign \\u00a0no...   \n",
       "359   chipmunk cgi talking animal aftercreditsstinge...   \n",
       "406   holiday santa claus duringcreditsstinger woman...   \n",
       "409   show business film making tap dancing movie in...   \n",
       "...                                                 ...   \n",
       "4795         gang audition police fake homeless actress   \n",
       "4797                                                      \n",
       "4800  date love at first sight narration investigati...   \n",
       "4801                                                      \n",
       "4802               obsession camcorder crush dream girl   \n",
       "\n",
       "                                       title  \\\n",
       "265                       The Cat in the Hat   \n",
       "321                             The Campaign   \n",
       "359   Alvin and the Chipmunks: The Road Chip   \n",
       "406                         Arthur Christmas   \n",
       "409                            All That Jazz   \n",
       "...                                      ...   \n",
       "4795                                    Bang   \n",
       "4797                                  Cavite   \n",
       "4800               Signed, Sealed, Delivered   \n",
       "4801                        Shanghai Calling   \n",
       "4802                       My Date with Drew   \n",
       "\n",
       "                                                   cast          director  \\\n",
       "265   Mike Myers Dakota Fanning Spencer Breslin Kell...          Bo Welch   \n",
       "321   Will Ferrell Zach Galifianakis Dylan McDermott...         Jay Roach   \n",
       "359   Jason Lee Justin Long Bella Thorne Matthew Gra...       Walt Becker   \n",
       "406   James McAvoy Hugh Laurie Bill Nighy Jim Broadb...        Barry Cook   \n",
       "409   Roy Scheider Jessica Lange Leland Palmer Ann R...         Bob Fosse   \n",
       "...                                                 ...               ...   \n",
       "4795  Darling Narita Peter Greene Michael Newland Er...   Ash Baron-Cohen   \n",
       "4797                                                     Neill Dela Llana   \n",
       "4800  Eric Mabius Kristin Booth Crystal Lowe Geoff G...       Scott Smith   \n",
       "4801  Daniel Henney Eliza Coupe Bill Paxton Alan Ruc...       Daniel Hsia   \n",
       "4802  Drew Barrymore Brian Herzlinger Corey Feldman ...  Brian Herzlinger   \n",
       "\n",
       "                                               overview  \n",
       "265   Conrad and Sally Walden are home alone with th...  \n",
       "321   Two rival politicians compete to win an electi...  \n",
       "359   Through a series of misunderstandings, Alvin, ...  \n",
       "406   Each Christmas, Santa and his vast army of hig...  \n",
       "409   Bob Fosse's semi-autobiographical film celebra...  \n",
       "...                                                 ...  \n",
       "4795  A young woman in L.A. is having a bad day: she...  \n",
       "4797  Adam, a security guard, travels from Californi...  \n",
       "4800  \"Signed, Sealed, Delivered\" introduces a dedic...  \n",
       "4801  When ambitious New York attorney Sam is sent t...  \n",
       "4802  Ever since the second grade when he first saw ...  \n",
       "\n",
       "[1037 rows x 7 columns]"
      ]
     },
     "execution_count": 13,
     "metadata": {},
     "output_type": "execute_result"
    }
   ],
   "source": [
    "df1[df1['scaled_budget']==0.0]"
   ]
  },
  {
   "cell_type": "code",
   "execution_count": 14,
   "id": "518c8b36-4d1f-4460-b573-92362326289f",
   "metadata": {},
   "outputs": [
    {
     "data": {
      "text/plain": [
       "(1037, 7)"
      ]
     },
     "execution_count": 14,
     "metadata": {},
     "output_type": "execute_result"
    }
   ],
   "source": [
    "df1[df1['scaled_budget']==0.0].shape \n",
    "\n",
    "#Remove scaled_budget because of huge variation "
   ]
  },
  {
   "cell_type": "code",
   "execution_count": 15,
   "id": "ea867813-57d9-4d2f-8567-bada506c98ca",
   "metadata": {},
   "outputs": [],
   "source": [
    "combined_feature=df1['genres']+' '+df1['keywords']+' '+df1['title']+' '+df1['director']+' '+df1['overview']+' '+df1['cast']"
   ]
  },
  {
   "cell_type": "code",
   "execution_count": 16,
   "id": "b27e0200-9e12-4b9e-a8b5-5909ac036bef",
   "metadata": {
    "scrolled": true
   },
   "outputs": [
    {
     "data": {
      "text/plain": [
       "0       Action Adventure Fantasy Science Fiction cultu...\n",
       "1       Adventure Fantasy Action ocean drug abuse exot...\n",
       "2       Action Adventure Crime spy based on novel secr...\n",
       "3       Action Crime Drama Thriller dc comics crime fi...\n",
       "4       Action Adventure Science Fiction based on nove...\n",
       "                              ...                        \n",
       "4798    Action Crime Thriller united states\\u2013mexic...\n",
       "4799    Comedy Romance   Newlyweds Edward Burns A newl...\n",
       "4800    Comedy Drama Romance TV Movie date love at fir...\n",
       "4801        Shanghai Calling Daniel Hsia When ambitiou...\n",
       "4802    Documentary obsession camcorder crush dream gi...\n",
       "Length: 4803, dtype: object"
      ]
     },
     "execution_count": 16,
     "metadata": {},
     "output_type": "execute_result"
    }
   ],
   "source": [
    "combined_feature"
   ]
  },
  {
   "cell_type": "markdown",
   "id": "919eb017-4ffa-4694-9f76-2c9507e59138",
   "metadata": {},
   "source": [
    "### Feature Engineering"
   ]
  },
  {
   "cell_type": "code",
   "execution_count": 17,
   "id": "7be005cc-5efb-461e-91be-3d9cc998f795",
   "metadata": {},
   "outputs": [],
   "source": [
    "vectorizer=TfidfVectorizer()\n",
    "feature_extraction=vectorizer.fit_transform(combined_feature)"
   ]
  },
  {
   "cell_type": "code",
   "execution_count": 18,
   "id": "6339729f-69c5-4ac9-a80f-bd52e52813ec",
   "metadata": {
    "scrolled": true
   },
   "outputs": [
    {
     "name": "stdout",
     "output_type": "stream",
     "text": [
      "  (0, 23378)\t0.15712983615485113\n",
      "  (0, 17961)\t0.12880237917518134\n",
      "  (0, 15734)\t0.17965748183948915\n",
      "  (0, 26145)\t0.1215164162454309\n",
      "  (0, 29933)\t0.15793829476600177\n",
      "  (0, 25067)\t0.16661467904553673\n",
      "  (0, 23824)\t0.17614923402628724\n",
      "  (0, 30862)\t0.15793829476600177\n",
      "  (0, 30462)\t0.19126567940650283\n",
      "  (0, 23866)\t0.11581852375116888\n",
      "  (0, 5303)\t0.17784484373422185\n",
      "  (0, 1000)\t0.12826618032438802\n",
      "  (0, 1236)\t0.05652328304013453\n",
      "  (0, 21745)\t0.17965748183948915\n",
      "  (0, 1274)\t0.03376550889063298\n",
      "  (0, 19854)\t0.1716342411380125\n",
      "  (0, 10462)\t0.1456927977062822\n",
      "  (0, 3004)\t0.10813666397755077\n",
      "  (0, 27808)\t0.1541239522466706\n",
      "  (0, 2709)\t0.10340830620353815\n",
      "  (0, 4170)\t0.06637540405604263\n",
      "  (0, 18205)\t0.1159842834919336\n",
      "  (0, 28900)\t0.16339356886372833\n",
      "  (0, 19745)\t0.05259466095062308\n",
      "  (0, 20246)\t0.19436017328657268\n",
      "  :\t:\n",
      "  (4802, 19444)\t0.06090505416661404\n",
      "  (4802, 12059)\t0.07831113162150243\n",
      "  (4802, 29996)\t0.07417215993777906\n",
      "  (4802, 9428)\t0.07273191935436099\n",
      "  (4802, 19684)\t0.05495347694155716\n",
      "  (4802, 30623)\t0.05711345532631114\n",
      "  (4802, 24761)\t0.04763952440228388\n",
      "  (4802, 12649)\t0.07702286355200927\n",
      "  (4802, 12447)\t0.10372264425796546\n",
      "  (4802, 30070)\t0.03511316248005377\n",
      "  (4802, 12844)\t0.02792274110711796\n",
      "  (4802, 19151)\t0.0432641420436324\n",
      "  (4802, 15809)\t0.07510644496416695\n",
      "  (4802, 30629)\t0.055699924407095605\n",
      "  (4802, 4193)\t0.036314790825464495\n",
      "  (4802, 10488)\t0.03292079281935773\n",
      "  (4802, 10792)\t0.036672551092967465\n",
      "  (4802, 30316)\t0.02904879204137132\n",
      "  (4802, 12340)\t0.04252552850061288\n",
      "  (4802, 19748)\t0.04494686218865732\n",
      "  (4802, 1274)\t0.019605815568505356\n",
      "  (4802, 19745)\t0.030538891797127484\n",
      "  (4802, 27696)\t0.038584596293369654\n",
      "  (4802, 27404)\t0.033842404519474664\n",
      "  (4802, 13613)\t0.02279811106257672\n"
     ]
    }
   ],
   "source": [
    "print(feature_extraction)"
   ]
  },
  {
   "cell_type": "code",
   "execution_count": 19,
   "id": "b5e73bc8-7bcc-4c87-a797-b98583cba738",
   "metadata": {},
   "outputs": [
    {
     "name": "stdin",
     "output_type": "stream",
     "text": [
      "Enter the movie_name: avatar\n"
     ]
    }
   ],
   "source": [
    "movie_name=input(\"Enter the movie_name:\")\n",
    "similar_movies=difflib.get_close_matches(movie_name,list(df.title),n=3)\n"
   ]
  },
  {
   "cell_type": "code",
   "execution_count": 20,
   "id": "8093aaa2-4960-4408-b091-be3240e0edd0",
   "metadata": {},
   "outputs": [
    {
     "data": {
      "text/plain": [
       "[0]"
      ]
     },
     "execution_count": 20,
     "metadata": {},
     "output_type": "execute_result"
    }
   ],
   "source": [
    "movie_index=df1.index[df1.title==similar_movies[0]]\n",
    "movie_index.tolist()"
   ]
  },
  {
   "cell_type": "code",
   "execution_count": 21,
   "id": "7c2b7277-342a-4e49-bf05-502151cc9971",
   "metadata": {},
   "outputs": [
    {
     "data": {
      "text/plain": [
       "4803"
      ]
     },
     "execution_count": 21,
     "metadata": {},
     "output_type": "execute_result"
    }
   ],
   "source": [
    "similarity=cosine_similarity(feature_extraction)\n",
    "len(similarity)\n"
   ]
  },
  {
   "cell_type": "code",
   "execution_count": 22,
   "id": "e7e9a7da-ccd9-4322-a46f-d0bf4d16d334",
   "metadata": {},
   "outputs": [
    {
     "data": {
      "text/plain": [
       "[(0, 1.0),\n",
       " (1, 0.03330113121811146),\n",
       " (2, 0.03100455879489204),\n",
       " (3, 0.031289371034825576),\n",
       " (4, 0.07617507130196044),\n",
       " (5, 0.05164737593355014),\n",
       " (6, 0.01607170090990939),\n",
       " (7, 0.062114666919639426),\n",
       " (8, 0.020662640954680074)]"
      ]
     },
     "execution_count": 22,
     "metadata": {},
     "output_type": "execute_result"
    }
   ],
   "source": [
    "similarity_score=list(enumerate(similarity[movie_index[0]]))\n",
    "similarity_score[0:9]"
   ]
  },
  {
   "cell_type": "code",
   "execution_count": 23,
   "id": "51ffb751-b943-42f1-b774-8153fcced427",
   "metadata": {},
   "outputs": [
    {
     "data": {
      "text/plain": [
       "[(0, 1.0),\n",
       " (1914, 0.16066063846566153),\n",
       " (461, 0.15435260416602975),\n",
       " (56, 0.14976212443415304),\n",
       " (1352, 0.14864119364513492),\n",
       " (1531, 0.14843292113325568),\n",
       " (94, 0.14733554848118408),\n",
       " (3158, 0.1472835647052912),\n",
       " (2403, 0.14571660223784694)]"
      ]
     },
     "execution_count": 23,
     "metadata": {},
     "output_type": "execute_result"
    }
   ],
   "source": [
    "sorted_score=sorted(similarity_score,key=lambda x:x[1],reverse=True)\n",
    "sorted_score[0:9]"
   ]
  },
  {
   "cell_type": "code",
   "execution_count": 24,
   "id": "63ab91e6-ae1f-4b8b-8c82-a922d201b56d",
   "metadata": {
    "scrolled": true
   },
   "outputs": [
    {
     "name": "stdin",
     "output_type": "stream",
     "text": [
      "Enter the movie_count you want for recommendation : 10\n"
     ]
    },
    {
     "name": "stdout",
     "output_type": "stream",
     "text": [
      "The recommendation for 10 is listed\n"
     ]
    },
    {
     "data": {
      "text/plain": [
       "'Avatar'"
      ]
     },
     "metadata": {},
     "output_type": "display_data"
    },
    {
     "data": {
      "text/plain": [
       "'Lifeforce'"
      ]
     },
     "metadata": {},
     "output_type": "display_data"
    },
    {
     "data": {
      "text/plain": [
       "'Lost in Space'"
      ]
     },
     "metadata": {},
     "output_type": "display_data"
    },
    {
     "data": {
      "text/plain": [
       "'Star Trek Beyond'"
      ]
     },
     "metadata": {},
     "output_type": "display_data"
    },
    {
     "data": {
      "text/plain": [
       "'Gattaca'"
      ]
     },
     "metadata": {},
     "output_type": "display_data"
    },
    {
     "data": {
      "text/plain": [
       "'Moonraker'"
      ]
     },
     "metadata": {},
     "output_type": "display_data"
    },
    {
     "data": {
      "text/plain": [
       "'Guardians of the Galaxy'"
      ]
     },
     "metadata": {},
     "output_type": "display_data"
    },
    {
     "data": {
      "text/plain": [
       "'Alien'"
      ]
     },
     "metadata": {},
     "output_type": "display_data"
    },
    {
     "data": {
      "text/plain": [
       "'Aliens'"
      ]
     },
     "metadata": {},
     "output_type": "display_data"
    },
    {
     "data": {
      "text/plain": [
       "'Zathura: A Space Adventure'"
      ]
     },
     "metadata": {},
     "output_type": "display_data"
    }
   ],
   "source": [
    "a=int(input(\"Enter the movie_count you want for recommendation :\" ))\n",
    "print(f\"The recommendation for {a} is listed\")\n",
    "for i in sorted_score[0:a]:\n",
    "      display(df1.iloc[i[0],3])\n"
   ]
  },
  {
   "cell_type": "markdown",
   "id": "6d36df5f-9209-4151-ab84-c9bdc6c621e9",
   "metadata": {},
   "source": [
    "### Output"
   ]
  },
  {
   "cell_type": "code",
   "execution_count": null,
   "id": "cf27347c-e251-46ef-b3be-b12f763ff47f",
   "metadata": {
    "scrolled": true
   },
   "outputs": [
    {
     "name": "stdin",
     "output_type": "stream",
     "text": [
      "Enter the movie_name: avatar\n"
     ]
    },
    {
     "name": "stdout",
     "output_type": "stream",
     "text": [
      "The recommendation for 10 similar movies is listed\n"
     ]
    },
    {
     "data": {
      "text/plain": [
       "'Avatar'"
      ]
     },
     "metadata": {},
     "output_type": "display_data"
    },
    {
     "data": {
      "text/plain": [
       "'Lifeforce'"
      ]
     },
     "metadata": {},
     "output_type": "display_data"
    },
    {
     "data": {
      "text/plain": [
       "'Lost in Space'"
      ]
     },
     "metadata": {},
     "output_type": "display_data"
    },
    {
     "data": {
      "text/plain": [
       "'Star Trek Beyond'"
      ]
     },
     "metadata": {},
     "output_type": "display_data"
    },
    {
     "data": {
      "text/plain": [
       "'Gattaca'"
      ]
     },
     "metadata": {},
     "output_type": "display_data"
    },
    {
     "data": {
      "text/plain": [
       "'Moonraker'"
      ]
     },
     "metadata": {},
     "output_type": "display_data"
    }
   ],
   "source": [
    "movie_name=input(\"Enter the movie_name:\")\n",
    "similar_movies=difflib.get_close_matches(movie_name,list(df.title),n=3)\n",
    "movie_index=df1.index[df1.title==similar_movies[0]]\n",
    "movie_index.tolist()\n",
    "similarity=cosine_similarity(feature_extraction)\n",
    "similarity_score=list(enumerate(similarity[movie_index[0]]))\n",
    "sorted_score=sorted(similarity_score,key=lambda x:x[1],reverse=True)\n",
    "print(f\"The recommendation for {a} similar movies is listed\")\n",
    "for i in sorted_score[0:7]:\n",
    "      display(df1.iloc[i[0],3])"
   ]
  },
  {
   "cell_type": "code",
   "execution_count": null,
   "id": "579373ce-fccc-4d8f-a37d-b80c591e63e9",
   "metadata": {},
   "outputs": [],
   "source": [
    "import pickle \n",
    "pickle.dump(df1,open('artifacts/movie_lst.pkl','wb'))\n",
    "pickle.dump(df1,open('artifacts/similarity_score.pkl','wb'))\n"
   ]
  }
 ],
 "metadata": {
  "kernelspec": {
   "display_name": "Python 3 (ipykernel)",
   "language": "python",
   "name": "python3"
  },
  "language_info": {
   "codemirror_mode": {
    "name": "ipython",
    "version": 3
   },
   "file_extension": ".py",
   "mimetype": "text/x-python",
   "name": "python",
   "nbconvert_exporter": "python",
   "pygments_lexer": "ipython3",
   "version": "3.11.7"
  }
 },
 "nbformat": 4,
 "nbformat_minor": 5
}
